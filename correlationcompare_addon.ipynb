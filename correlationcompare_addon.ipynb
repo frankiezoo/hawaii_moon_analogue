{
 "cells": [
  {
   "cell_type": "markdown",
   "id": "74102e66-e301-4b1d-aa1f-e73e48e91835",
   "metadata": {},
   "source": [
    "# *Optional:* Compare changes across matrices\n",
    "Compare different correlation matrices for field + library (corrMx_sub, corrMx_nan_sub, corrMx_drop_sub)\n",
    "\n",
    "CONCLUSION: use the dropped Noise band version = ***corrMx_drop_sub***"
   ]
  },
  {
   "cell_type": "markdown",
   "id": "a60b70e8-eaff-41dd-972b-7942dd121427",
   "metadata": {},
   "source": [
    "### Using .eq and .corrwith"
   ]
  },
  {
   "cell_type": "code",
   "execution_count": null,
   "id": "b0fdbdc0-a330-4e50-b821-85619f79c0ea",
   "metadata": {},
   "outputs": [],
   "source": [
    "## using .eq and .corrwith\n",
    "\n",
    "# df_eqcheck = corrMx_sub.eq(corrMx_nan_sub) # returns bool on each element - all changed except the 'weird rows' - always had NaNs in noise bands\n",
    "df_eqcheck = corrMx_sub.eq(corrMx_drop_sub) # - all changed except the 'weird rows' - always had NaNs in noise bands\n",
    "# df_eqcheck = corrMx_nan_sub.eq(corrMx_drop_sub) # - all EQUAL\n",
    "with pd.option_context('display.max_rows', None,'display.max_columns',None):\n",
    "    print(df_eqcheck)\n",
    "    # print(corrMx_nan_sub.corrwith(corrMx_drop_sub)) # ALL 1.0s if all EQUAL\n",
    "    print(corrMx_sub.corrwith(corrMx_drop_sub)) # ALL 1.0s if all EQUAL\n",
    "df_eqcheck\n"
   ]
  },
  {
   "cell_type": "markdown",
   "id": "914af6f5-0a0d-4e5c-ab23-bccd586fc73a",
   "metadata": {},
   "source": [
    "### Using assert frame equal"
   ]
  },
  {
   "cell_type": "code",
   "execution_count": null,
   "id": "242abd8e-c58e-4582-82f8-5b253dc6ec0a",
   "metadata": {},
   "outputs": [],
   "source": [
    "## using assert frame equal\n",
    "\n",
    "# pd.testing.assert_frame_equal(corrMx_sub,corrMx_nan_sub) # changed when removed noise\n",
    "pd.testing.assert_frame_equal(corrMx_sub,corrMx_drop_sub) # changed when removed noise\n",
    "# pd.testing.assert_frame_equal(corrMx_nan_sub,corrMx_drop_sub) # EQUAL\n",
    "\n",
    "# assert_frame_equal(corrMx_nan_sub,corrMx_drop_sub)\n",
    "assert_frame_equal(corrMx_sub,corrMx_drop_sub)"
   ]
  }
 ],
 "metadata": {
  "kernelspec": {
   "display_name": "Python 3 (ipykernel)",
   "language": "python",
   "name": "python3"
  },
  "language_info": {
   "codemirror_mode": {
    "name": "ipython",
    "version": 3
   },
   "file_extension": ".py",
   "mimetype": "text/x-python",
   "name": "python",
   "nbconvert_exporter": "python",
   "pygments_lexer": "ipython3",
   "version": "3.7.12"
  }
 },
 "nbformat": 4,
 "nbformat_minor": 5
}
